{
  "nbformat": 4,
  "nbformat_minor": 0,
  "metadata": {
    "colab": {
      "name": "NumpyTutorial.ipynb",
      "provenance": [],
      "collapsed_sections": [],
      "authorship_tag": "ABX9TyO9XNzz1aqgKLVUs446X77K",
      "include_colab_link": true
    },
    "kernelspec": {
      "name": "python3",
      "display_name": "Python 3"
    },
    "language_info": {
      "name": "python"
    },
    "accelerator": "GPU",
    "gpuClass": "standard"
  },
  "cells": [
    {
      "cell_type": "markdown",
      "metadata": {
        "id": "view-in-github",
        "colab_type": "text"
      },
      "source": [
        "<a href=\"https://colab.research.google.com/github/kmayutrisna/MLCrashCourse/blob/main/NumpyTutorial.ipynb\" target=\"_parent\"><img src=\"https://colab.research.google.com/assets/colab-badge.svg\" alt=\"Open In Colab\"/></a>"
      ]
    },
    {
      "cell_type": "markdown",
      "source": [
        "## **Numpy Tutorial**"
      ],
      "metadata": {
        "id": "YfsC3JtP8DTD"
      }
    },
    {
      "cell_type": "markdown",
      "source": [
        "# **Import** **Numpy**\n",
        "Menggunkana perintah import untuk mengambil library Numpy dan np digunakan untuk mengakses NumPy agar lebih singkat"
      ],
      "metadata": {
        "id": "9LZ4o9XD8Pfw"
      }
    },
    {
      "cell_type": "code",
      "execution_count": 1,
      "metadata": {
        "id": "ixxXEvW-8CXm"
      },
      "outputs": [],
      "source": [
        "import numpy as np "
      ]
    },
    {
      "cell_type": "markdown",
      "source": [
        "# **Populate arrays with specific numbers**\n",
        "`np.array` digunakan untuk membuat matrix dengan menggunakan nilai yang kita pilih sendiri. Misalkan pada contoh ini kita akan menggunakan `np.array` untuk membuat 8-element vector:\n"
      ],
      "metadata": {
        "id": "W_Z6cLCj9_sa"
      }
    },
    {
      "cell_type": "code",
      "source": [
        "one_dimensional_array = np.array([1.2, 2.4, 3.5, 4.7, 6.1, 7.2, 8.3, 9.5])\n",
        "print(one_dimensional_array)"
      ],
      "metadata": {
        "colab": {
          "base_uri": "https://localhost:8080/"
        },
        "id": "JSQ5xQPWAHsS",
        "outputId": "11784ccd-f5cb-412a-d440-23c75fb593bd"
      },
      "execution_count": 2,
      "outputs": [
        {
          "output_type": "stream",
          "name": "stdout",
          "text": [
            "[1.2 2.4 3.5 4.7 6.1 7.2 8.3 9.5]\n"
          ]
        }
      ]
    },
    {
      "cell_type": "markdown",
      "source": [
        "Kita juga dapat menggunakan `np.array` untuk membuat sebuah *two-dimensional matrix*. Untuk membuat two-dimensional matrix, dengan menambahkan tanda kurung siku. Misalkan, kita ingin membuat matrix 3x2:\n"
      ],
      "metadata": {
        "id": "XJzG_GqkAy-z"
      }
    },
    {
      "cell_type": "code",
      "source": [
        "two_dimensional_array = np.array([[6, 5], [11, 7], [4, 8]])\n",
        "print(two_dimensional_array)"
      ],
      "metadata": {
        "colab": {
          "base_uri": "https://localhost:8080/"
        },
        "id": "x-K5TdLVCbiy",
        "outputId": "c40b4ea6-b3e4-4662-e4f2-8a87fe63a9dd"
      },
      "execution_count": 3,
      "outputs": [
        {
          "output_type": "stream",
          "name": "stdout",
          "text": [
            "[[ 6  5]\n",
            " [11  7]\n",
            " [ 4  8]]\n"
          ]
        }
      ]
    },
    {
      "cell_type": "markdown",
      "source": [
        "Untuk membuat mtrix 0 dapat menggunakan perintah `np.zeros`\n"
      ],
      "metadata": {
        "id": "NiH_M26GC0QS"
      }
    },
    {
      "cell_type": "code",
      "source": [
        "zeros_matrix = np.zeros(5)\n",
        "print(zeros_matrix)"
      ],
      "metadata": {
        "colab": {
          "base_uri": "https://localhost:8080/"
        },
        "id": "mRQWeNi7DFo0",
        "outputId": "0e00e06f-1a0c-412e-cb71-fe536fd7f0d8"
      },
      "execution_count": 4,
      "outputs": [
        {
          "output_type": "stream",
          "name": "stdout",
          "text": [
            "[0. 0. 0. 0. 0.]\n"
          ]
        }
      ]
    },
    {
      "cell_type": "markdown",
      "source": [
        "# **Populate arrays with sequences of numbers**\n",
        "Kita dapat membuat array dengan mengisinya dengan urutan angka"
      ],
      "metadata": {
        "id": "tLj5JWTaEqD2"
      }
    },
    {
      "cell_type": "code",
      "source": [
        "sequence_of_integers = np.arange(5, 12)\n",
        "print(sequence_of_integers)"
      ],
      "metadata": {
        "colab": {
          "base_uri": "https://localhost:8080/"
        },
        "id": "FA3kVwpcFBx0",
        "outputId": "ffbe8e0a-5571-4ab6-9600-3486a48fb59a"
      },
      "execution_count": 5,
      "outputs": [
        {
          "output_type": "stream",
          "name": "stdout",
          "text": [
            "[ 5  6  7  8  9 10 11]\n"
          ]
        }
      ]
    },
    {
      "cell_type": "markdown",
      "source": [
        "Perintah np.arrange akan menghasilkan sequence yang memasukkan juga nilai terendah tetapi tidak nilai tertingginya."
      ],
      "metadata": {
        "id": "mLWV37oZFIPo"
      }
    },
    {
      "cell_type": "markdown",
      "source": [
        "# **Populate arrays with random numbers**\n",
        "Numpy menyediakan beberapa variasi fungsi untuk membuat matrix dengan random numbers terhadap range yang ditentutkan. Misalkan, `np.random.randint` menghasilkan nilai acak integer diantara nilai terendah dan tertinggi. Contoh berikut akan menghasilkan sebuah 6-element vector dengan random integer antara 50 dan 100.\n"
      ],
      "metadata": {
        "id": "kbR0XDIqFYkr"
      }
    },
    {
      "cell_type": "code",
      "source": [
        "random_integers_between_50_and_100 = np.random.randint(low=50, high=101, size=(6))\n",
        "print(random_integers_between_50_and_100)"
      ],
      "metadata": {
        "colab": {
          "base_uri": "https://localhost:8080/"
        },
        "id": "AEnegEeQd3JK",
        "outputId": "2f22f6d5-7cd2-4142-ee1f-d888337bc32d"
      },
      "execution_count": 7,
      "outputs": [
        {
          "output_type": "stream",
          "name": "stdout",
          "text": [
            "[97 86 77 73 93 60]\n"
          ]
        }
      ]
    },
    {
      "cell_type": "markdown",
      "source": [
        "Perlu diingat bahwa nilai tertinggi yang dihasilkan dari perintah `np.random.randint` adalah nilai tertinggi dikurangi 1."
      ],
      "metadata": {
        "id": "ISgHi5m-efaL"
      }
    },
    {
      "cell_type": "markdown",
      "source": [
        "Untuk membuat random floating-point values atau nilai float antara 0.0 dan 1.0 menggunakan perintah `np.random.random`. Contohnya adalah:"
      ],
      "metadata": {
        "id": "G6MMPiP8fN5p"
      }
    },
    {
      "cell_type": "code",
      "source": [
        "random_floats_between_0_and_1 = np.random.random([6])\n",
        "print(random_floats_between_0_and_1) "
      ],
      "metadata": {
        "colab": {
          "base_uri": "https://localhost:8080/"
        },
        "id": "oBFPpSY6fnMG",
        "outputId": "76074a22-9b5d-42a9-eed3-93e7eaac8907"
      },
      "execution_count": 8,
      "outputs": [
        {
          "output_type": "stream",
          "name": "stdout",
          "text": [
            "[0.32429079 0.67915603 0.09351667 0.97872519 0.5684261  0.25083649]\n"
          ]
        }
      ]
    },
    {
      "cell_type": "markdown",
      "source": [
        "# **Mathematical Operations on NumPy Operands**\n",
        "Jika kita ingin menambahkan atau mengurangi dua vektor atau matrik, kita memerlukan linear arlegra agar keduanya memiliki dimendi yang sama. Selanjutnya, jika kita ingin mengalikan dua vektor atau matrik, linear algebra memberlakukan aturan yang ketat untuk penyesuaian dimensi pada operasi tersebut. Beruntungnya, NumPy menggunakan trik yang disebut dengan *broadcasting* untuk melebarkan secara virtual operand yang ecil ke dimensi yang sesuai untuk linear algebra. Misalkan, contoh berikut menggunakan broadcasting untuk menambahkan 2.0 ke semua item pada vektor yang dibuat pada code cell sebelumnya: "
      ],
      "metadata": {
        "id": "GvBOiBbIh4mX"
      }
    },
    {
      "cell_type": "code",
      "source": [
        "random_floats_between_2_and_3 = random_floats_between_0_and_1 + 2.0\n",
        "print(random_floats_between_2_and_3)"
      ],
      "metadata": {
        "colab": {
          "base_uri": "https://localhost:8080/"
        },
        "id": "j8oz_9q3j8Nt",
        "outputId": "852ca967-94ce-4f50-f0ff-146d67ef0f2f"
      },
      "execution_count": 9,
      "outputs": [
        {
          "output_type": "stream",
          "name": "stdout",
          "text": [
            "[2.32429079 2.67915603 2.09351667 2.97872519 2.5684261  2.25083649]\n"
          ]
        }
      ]
    },
    {
      "cell_type": "markdown",
      "source": [
        "Kode berikut ini menggunakan broadcasting untuk mengalikan setiap cell pada vektor dengan 3:"
      ],
      "metadata": {
        "id": "b5gzgQxWkCGR"
      }
    },
    {
      "cell_type": "code",
      "source": [
        "random_integers_between_150_and_300 = random_integers_between_50_and_100 * 3\n",
        "print(random_integers_between_150_and_300)"
      ],
      "metadata": {
        "colab": {
          "base_uri": "https://localhost:8080/"
        },
        "id": "mqncvUjKkMNq",
        "outputId": "809013c6-87d6-4ea5-bf4e-3403937eaa42"
      },
      "execution_count": 10,
      "outputs": [
        {
          "output_type": "stream",
          "name": "stdout",
          "text": [
            "[291 258 231 219 279 180]\n"
          ]
        }
      ]
    },
    {
      "cell_type": "markdown",
      "source": [
        "# **Task 1: Create a Linear Dataset**\n",
        "Tujuannya adalah untuk membuat dataset sederhana yang terdiri dari sebuah single feature dan sebuah label sebagai berikut:\n",
        "Tetapkan urutan bilangan bulat dari 6 hingga 20 (inklusif) ke array NumPy bernama feature.\n",
        "Tetapkan 15 nilai ke array NumPy bernama label sedemikian rupa sehingga:\n",
        "\n",
        "  `label = (3)(feature) + 4`\n",
        "\n",
        "Misalkan nilai pertama untuk label haruslah\n",
        "\n",
        "`label = (3)(6) + 4 = 22`"
      ],
      "metadata": {
        "id": "GiHb3qYYlDbQ"
      }
    },
    {
      "cell_type": "code",
      "source": [
        "feature = np.arange(6, 21)\n",
        "print(feature)\n",
        "label = (feature * 3) + 4\n",
        "print(label)"
      ],
      "metadata": {
        "colab": {
          "base_uri": "https://localhost:8080/"
        },
        "id": "jidm-6Qild9p",
        "outputId": "440e3af5-0c7c-4d7c-eee4-2a593034eb52"
      },
      "execution_count": 12,
      "outputs": [
        {
          "output_type": "stream",
          "name": "stdout",
          "text": [
            "[ 6  7  8  9 10 11 12 13 14 15 16 17 18 19 20]\n",
            "[22 25 28 31 34 37 40 43 46 49 52 55 58 61 64]\n"
          ]
        }
      ]
    },
    {
      "cell_type": "markdown",
      "source": [
        "# **Task 2: Add Some Noise to the Dataset**\n",
        "Untuk membuat dataset lebih nyata, tambahkan random noise kedalam setiap elemen dari array label yang telah dibuat. Untuk lebih tepat, ubah setiap nilai yang ditetapkan untuk label dengan menambahkan different random floating-point value antara -2 dan +2. Jangan mengandalkan broadcasting, sebagai gantinya buat array noise yang memiliki dimensi yang sama dengan label.\n"
      ],
      "metadata": {
        "id": "8CxuLa4Unh0O"
      }
    },
    {
      "cell_type": "code",
      "source": [
        "noise = (np.random.random([15]) * 4) - 2\n",
        "print(noise)\n",
        "label = label + noise \n",
        "print(label)"
      ],
      "metadata": {
        "colab": {
          "base_uri": "https://localhost:8080/"
        },
        "id": "PeMnJAZOo4cY",
        "outputId": "0b31f284-58b2-408e-ba33-f5fadcf8991a"
      },
      "execution_count": 13,
      "outputs": [
        {
          "output_type": "stream",
          "name": "stdout",
          "text": [
            "[ 0.38922045 -0.14972181  1.98877765  0.4001908  -1.87960552 -1.97720709\n",
            " -1.72295866 -1.1722819  -0.7973715  -0.86024323  1.03808722  0.42257346\n",
            "  1.78359517  0.20635133  0.34258396]\n",
            "[22.38922045 24.85027819 29.98877765 31.4001908  32.12039448 35.02279291\n",
            " 38.27704134 41.8277181  45.2026285  48.13975677 53.03808722 55.42257346\n",
            " 59.78359517 61.20635133 64.34258396]\n"
          ]
        }
      ]
    }
  ]
}