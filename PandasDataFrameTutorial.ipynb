{
  "nbformat": 4,
  "nbformat_minor": 0,
  "metadata": {
    "colab": {
      "name": "PandasDataFrameTutorial.ipynb",
      "provenance": [],
      "authorship_tag": "ABX9TyMjuYd23S6MQzajTdeBUWn0",
      "include_colab_link": true
    },
    "kernelspec": {
      "name": "python3",
      "display_name": "Python 3"
    },
    "language_info": {
      "name": "python"
    },
    "accelerator": "GPU",
    "gpuClass": "standard"
  },
  "cells": [
    {
      "cell_type": "markdown",
      "metadata": {
        "id": "view-in-github",
        "colab_type": "text"
      },
      "source": [
        "<a href=\"https://colab.research.google.com/github/kmayutrisna/MLCrashCourse/blob/main/PandasDataFrameTutorial.ipynb\" target=\"_parent\"><img src=\"https://colab.research.google.com/assets/colab-badge.svg\" alt=\"Open In Colab\"/></a>"
      ]
    },
    {
      "cell_type": "markdown",
      "source": [
        "# **Pandas DataFrame UltraQuick Tutorial**\n",
        "\n",
        "Sebuah DataFrame mirip dengan in-memory spreadsheet yang memiliki:\n",
        "DataFrame menyimpan data dalam cells\n",
        "DataFrame memiliki columns (kolom) dan rows (baris)\n"
      ],
      "metadata": {
        "id": "UibT5RyK9HiS"
      }
    },
    {
      "cell_type": "markdown",
      "source": [
        "# **Import NumPy and pandas modules**\n",
        "Jalankan kode dibawah ini untuk melakukan import NumPy dan pandas"
      ],
      "metadata": {
        "id": "H6StC7aM-iub"
      }
    },
    {
      "cell_type": "code",
      "source": [
        "import numpy as np\n",
        "import pandas as pd"
      ],
      "metadata": {
        "id": "QUMCiUvb-xVU"
      },
      "execution_count": 1,
      "outputs": []
    },
    {
      "cell_type": "markdown",
      "source": [
        "# **Creating a DataFrame**\n",
        "Code cell berikut ini membuat sebuah DataFrame sederhana yang terdiri dari 10 cell yang didalamnya berisi:\n",
        "\n",
        "\n",
        "*   5 row\n",
        "*   2 columns, temperature dan activity\n",
        "\n",
        "\n",
        "\n",
        "Kode cell berikut ini membuat instance kelas `pd.DataFrame` untuk menghasilkan DataFrame. Class tersebut memiliki dua arguments:\n",
        "\n",
        "\n",
        "\n",
        "*   Argumen pertama menyediakan data untuk mengisi 10 cells. Kode cells dengan perintah `np.array` digunakan untuk menghasilkan 5x2 NumPy array.\n",
        "*   Argumen kedua mengidentifikasikan nama dari kedua kolom tersebut.\n",
        "\n",
        "\n"
      ],
      "metadata": {
        "id": "bSEZMBpsB6S0"
      }
    },
    {
      "cell_type": "code",
      "source": [
        "# Create and populate a 5x2 NumPy array.\n",
        "my_data = np.array([[0, 3], [10, 7], [20, 9], [30, 14], [40, 15]])\n",
        "\n",
        "# Create a Python list that holds the names of the two columns.\n",
        "my_column_names = ['temperature', 'activity']\n",
        "\n",
        "# Create a DataFrame.\n",
        "my_dataframe = pd.DataFrame(data=my_data, columns=my_column_names)\n",
        "\n",
        "# Print the entire DataFrame\n",
        "print(my_dataframe)"
      ],
      "metadata": {
        "colab": {
          "base_uri": "https://localhost:8080/"
        },
        "id": "xKMRSNsVF8CX",
        "outputId": "95c4a892-5a5d-4b17-d672-53a6847aa388"
      },
      "execution_count": 2,
      "outputs": [
        {
          "output_type": "stream",
          "name": "stdout",
          "text": [
            "   temperature  activity\n",
            "0            0         3\n",
            "1           10         7\n",
            "2           20         9\n",
            "3           30        14\n",
            "4           40        15\n"
          ]
        }
      ]
    },
    {
      "cell_type": "markdown",
      "source": [
        "# **Adding a new column to a DataFrame**\n",
        "Untuk menambahkan kolom baru pada Dataframe hanya dengan memberikan nilai pada kolom baru. Misalkan, kode berikut ini membuat kolom ketiga yang diberi nama dengan `adjusted` pada `my_dataframe`:\n"
      ],
      "metadata": {
        "id": "uH6g1UjaJOn6"
      }
    },
    {
      "cell_type": "code",
      "source": [
        "# Create a new column named adjusted.\n",
        "my_dataframe[\"adjusted\"] = my_dataframe[\"activity\"] + 2\n",
        "\n",
        "# Print the entire DataFrame\n",
        "print(my_dataframe)"
      ],
      "metadata": {
        "colab": {
          "base_uri": "https://localhost:8080/"
        },
        "id": "cS9UV9wtJtbu",
        "outputId": "6590cee2-5d75-4cdd-8e99-65e79dc9f71c"
      },
      "execution_count": 3,
      "outputs": [
        {
          "output_type": "stream",
          "name": "stdout",
          "text": [
            "   temperature  activity  adjusted\n",
            "0            0         3         5\n",
            "1           10         7         9\n",
            "2           20         9        11\n",
            "3           30        14        16\n",
            "4           40        15        17\n"
          ]
        }
      ]
    },
    {
      "cell_type": "markdown",
      "source": [
        "# **Specifying a subset of a DataFrame**\n",
        "Pandas menyediakan beberapa cara untuk mengisolasi rows, columns, slice ataupun cells pada DataFrame.\n"
      ],
      "metadata": {
        "id": "3rTZP7I4Mfma"
      }
    },
    {
      "cell_type": "code",
      "source": [
        "print(\"Rows #0, #1, and #2:\")\n",
        "print(my_dataframe.head(3), '\\n')\n",
        "\n",
        "print(\"Row #2:\")\n",
        "print(my_dataframe.iloc[[2]], '\\n')\n",
        "\n",
        "print(\"Rows #1, #2, and #3:\")\n",
        "print(my_dataframe[1:4], '\\n')\n",
        "\n",
        "print(\"Column 'temperature':\")\n",
        "print(my_dataframe['temperature'])"
      ],
      "metadata": {
        "colab": {
          "base_uri": "https://localhost:8080/"
        },
        "id": "ksf9ekvhQMrM",
        "outputId": "3d841196-a715-450d-98c9-fb931ea5c328"
      },
      "execution_count": 4,
      "outputs": [
        {
          "output_type": "stream",
          "name": "stdout",
          "text": [
            "Rows #0, #1, and #2:\n",
            "   temperature  activity  adjusted\n",
            "0            0         3         5\n",
            "1           10         7         9\n",
            "2           20         9        11 \n",
            "\n",
            "Row #2:\n",
            "   temperature  activity  adjusted\n",
            "2           20         9        11 \n",
            "\n",
            "Rows #1, #2, and #3:\n",
            "   temperature  activity  adjusted\n",
            "1           10         7         9\n",
            "2           20         9        11\n",
            "3           30        14        16 \n",
            "\n",
            "Column 'temperature':\n",
            "0     0\n",
            "1    10\n",
            "2    20\n",
            "3    30\n",
            "4    40\n",
            "Name: temperature, dtype: int64\n"
          ]
        }
      ]
    },
    {
      "cell_type": "markdown",
      "source": [
        "# **Task 1: Create a DataFrame**\n",
        "Kerjakan perintah berikut:\n",
        "Do the following:\n",
        "\n",
        "1.    Buatlah sebuah 3x4 (3 row x 4 columns) pandas Dataframe dimana kolom diberi dengan nama Eleanor, Chidi, tahani, dan Jason. Isikan 12 cells tersebut dengan random integer antara 0 dan 100.\n",
        "\n",
        "2.   Output berupa: \n",
        "*   Keseluruhan DataFramethe \n",
        "*   Nilai dari cell pada row #1 dari kolom Eleanort\n",
        "\n",
        "3. Buatlah kolom ke 15 yang diberi naa Janet, yang isinya merupakan penjumlahan row dari Tahani dan Jason."
      ],
      "metadata": {
        "id": "yxBaNAywSYnh"
      }
    },
    {
      "cell_type": "code",
      "source": [
        "# Create a Python list that holds the names of the four columns.\n",
        "my_column_names = ['Eleanor', 'Chidi', 'Tahani', 'Jason']\n",
        "\n",
        "# Create a 3x4 numpy array, each cell populated with a random integer.\n",
        "my_data = np.random.randint(low=0, high=101, size=(3, 4))\n",
        "\n",
        "# Create a DataFrame.\n",
        "df = pd.DataFrame(data=my_data, columns=my_column_names)\n",
        "\n",
        "# Print the entire DataFrame\n",
        "print(df)\n",
        "# Print the value in row #1 of the Eleanor column.\n",
        "print(\"\\nSecond row of the Eleanor column: %d\\n\" % df['Eleanor'][1])\n",
        "\n",
        "# Create a column named Janet whose contents are the sum\n",
        "# of two other columns.\n",
        "df['Janet'] = df['Tahani'] + df['Jason']\n",
        "\n",
        "# Print the enhanced DataFrame\n",
        "print(df)"
      ],
      "metadata": {
        "colab": {
          "base_uri": "https://localhost:8080/"
        },
        "id": "pP6JwNDFYKdq",
        "outputId": "6eb04dd4-c1b3-463b-b102-bc838da71955"
      },
      "execution_count": 5,
      "outputs": [
        {
          "output_type": "stream",
          "name": "stdout",
          "text": [
            "   Eleanor  Chidi  Tahani  Jason\n",
            "0       33      8      66     77\n",
            "1       87     36      21     84\n",
            "2       15     55      61     47\n",
            "\n",
            "Second row of the Eleanor column: 87\n",
            "\n",
            "   Eleanor  Chidi  Tahani  Jason  Janet\n",
            "0       33      8      66     77    143\n",
            "1       87     36      21     84    105\n",
            "2       15     55      61     47    108\n"
          ]
        }
      ]
    },
    {
      "cell_type": "markdown",
      "source": [
        "# **Copying a DataFrame (optional)**\n",
        "Pandas menyediakan dua cara untuk melakukan duplikasi DataFrame:\n",
        "1. `Referencing`. Jika kita menetapkan DataFrame ke variabel baru, setiap perubahan pada DataFrame atau variabel baru akan tercermin di variabel lain.\n",
        "2. `Copying`. Jika kita memanggil metode pd.DataFrame.copy, kita akan membuat salinan independen yang sebenarnya. Perubahan ke DataFrame asli atau salinan tidak akan tercermin di yang lain.\n",
        "Perbedaannya sangat kecil, tetapi penting.\n"
      ],
      "metadata": {
        "id": "qjPHxXRubJ4x"
      }
    },
    {
      "cell_type": "code",
      "source": [
        "# Create a reference by assigning my_dataframe to a new variable.\n",
        "print(\"Experiment with a reference:\")\n",
        "reference_to_df = df\n",
        "\n",
        "# Print the starting value of a particular cell.\n",
        "print(\"  Starting value of df: %d\" % df['Jason'][1])\n",
        "print(\"  Starting value of reference_to_df: %d\\n\" % reference_to_df['Jason'][1])\n",
        "\n",
        "# Modify a cell in df.\n",
        "df.at[1, 'Jason'] = df['Jason'][1] + 5\n",
        "print(\"  Updated df: %d\" % df['Jason'][1])\n",
        "print(\"  Updated reference_to_df: %d\\n\\n\" % reference_to_df['Jason'][1])\n",
        "\n",
        "# Create a true copy of my_dataframe\n",
        "print(\"Experiment with a true copy:\")\n",
        "copy_of_my_dataframe = my_dataframe.copy()\n",
        "\n",
        "# Print the starting value of a particular cell.\n",
        "print(\"  Starting value of my_dataframe: %d\" % my_dataframe['activity'][1])\n",
        "print(\"  Starting value of copy_of_my_dataframe: %d\\n\" % copy_of_my_dataframe['activity'][1])\n",
        "\n",
        "# Modify a cell in df.\n",
        "my_dataframe.at[1, 'activity'] = my_dataframe['activity'][1] + 3\n",
        "print(\"  Updated my_dataframe: %d\" % my_dataframe['activity'][1])\n",
        "print(\"  copy_of_my_dataframe does not get updated: %d\" % copy_of_my_dataframe['activity'][1])"
      ],
      "metadata": {
        "colab": {
          "base_uri": "https://localhost:8080/"
        },
        "id": "61lBTjM1brgq",
        "outputId": "5a4f5175-2ae6-48d1-cc9d-dc47c7f11855"
      },
      "execution_count": 6,
      "outputs": [
        {
          "output_type": "stream",
          "name": "stdout",
          "text": [
            "Experiment with a reference:\n",
            "  Starting value of df: 84\n",
            "  Starting value of reference_to_df: 84\n",
            "\n",
            "  Updated df: 89\n",
            "  Updated reference_to_df: 89\n",
            "\n",
            "\n",
            "Experiment with a true copy:\n",
            "  Starting value of my_dataframe: 7\n",
            "  Starting value of copy_of_my_dataframe: 7\n",
            "\n",
            "  Updated my_dataframe: 10\n",
            "  copy_of_my_dataframe does not get updated: 7\n"
          ]
        }
      ]
    }
  ]
}